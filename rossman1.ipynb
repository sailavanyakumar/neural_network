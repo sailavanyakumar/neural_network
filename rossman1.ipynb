{
 "cells": [
  {
   "cell_type": "code",
   "execution_count": 30,
   "metadata": {},
   "outputs": [
    {
     "name": "stderr",
     "output_type": "stream",
     "text": [
      "C:\\Users\\HP\\Anaconda3\\lib\\site-packages\\IPython\\core\\interactiveshell.py:3049: DtypeWarning: Columns (7) have mixed types. Specify dtype option on import or set low_memory=False.\n",
      "  interactivity=interactivity, compiler=compiler, result=result)\n",
      "C:\\Users\\HP\\Anaconda3\\lib\\site-packages\\sklearn\\preprocessing\\_encoders.py:371: FutureWarning: The handling of integer data will change in version 0.22. Currently, the categories are determined based on the range [0, max(values)], while in the future they will be determined based on the unique values.\n",
      "If you want the future behaviour and silence this warning, you can specify \"categories='auto'\".\n",
      "In case you used a LabelEncoder before this OneHotEncoder to convert the categories to integers, then you can now use the OneHotEncoder directly.\n",
      "  warnings.warn(msg, FutureWarning)\n",
      "C:\\Users\\HP\\Anaconda3\\lib\\site-packages\\sklearn\\preprocessing\\_encoders.py:371: FutureWarning: The handling of integer data will change in version 0.22. Currently, the categories are determined based on the range [0, max(values)], while in the future they will be determined based on the unique values.\n",
      "If you want the future behaviour and silence this warning, you can specify \"categories='auto'\".\n",
      "In case you used a LabelEncoder before this OneHotEncoder to convert the categories to integers, then you can now use the OneHotEncoder directly.\n",
      "  warnings.warn(msg, FutureWarning)\n",
      "C:\\Users\\HP\\Anaconda3\\lib\\site-packages\\sklearn\\preprocessing\\_encoders.py:371: FutureWarning: The handling of integer data will change in version 0.22. Currently, the categories are determined based on the range [0, max(values)], while in the future they will be determined based on the unique values.\n",
      "If you want the future behaviour and silence this warning, you can specify \"categories='auto'\".\n",
      "In case you used a LabelEncoder before this OneHotEncoder to convert the categories to integers, then you can now use the OneHotEncoder directly.\n",
      "  warnings.warn(msg, FutureWarning)\n",
      "C:\\Users\\HP\\Anaconda3\\lib\\site-packages\\sklearn\\preprocessing\\_encoders.py:371: FutureWarning: The handling of integer data will change in version 0.22. Currently, the categories are determined based on the range [0, max(values)], while in the future they will be determined based on the unique values.\n",
      "If you want the future behaviour and silence this warning, you can specify \"categories='auto'\".\n",
      "In case you used a LabelEncoder before this OneHotEncoder to convert the categories to integers, then you can now use the OneHotEncoder directly.\n",
      "  warnings.warn(msg, FutureWarning)\n",
      "C:\\Users\\HP\\Anaconda3\\lib\\site-packages\\sklearn\\preprocessing\\_encoders.py:371: FutureWarning: The handling of integer data will change in version 0.22. Currently, the categories are determined based on the range [0, max(values)], while in the future they will be determined based on the unique values.\n",
      "If you want the future behaviour and silence this warning, you can specify \"categories='auto'\".\n",
      "In case you used a LabelEncoder before this OneHotEncoder to convert the categories to integers, then you can now use the OneHotEncoder directly.\n",
      "  warnings.warn(msg, FutureWarning)\n",
      "C:\\Users\\HP\\Anaconda3\\lib\\site-packages\\sklearn\\preprocessing\\_encoders.py:371: FutureWarning: The handling of integer data will change in version 0.22. Currently, the categories are determined based on the range [0, max(values)], while in the future they will be determined based on the unique values.\n",
      "If you want the future behaviour and silence this warning, you can specify \"categories='auto'\".\n",
      "In case you used a LabelEncoder before this OneHotEncoder to convert the categories to integers, then you can now use the OneHotEncoder directly.\n",
      "  warnings.warn(msg, FutureWarning)\n"
     ]
    },
    {
     "name": "stdout",
     "output_type": "stream",
     "text": [
      "Train on 732390 samples, validate on 81377 samples\n",
      "Epoch 1/10\n",
      "732390/732390 [==============================] - 19s 26us/step - loss: 957.6309 - mean_absolute_error: 957.6309 - val_loss: 852.8037 - val_mean_absolute_error: 852.8037\n",
      "Epoch 2/10\n",
      "732390/732390 [==============================] - 19s 25us/step - loss: 797.3254 - mean_absolute_error: 797.3254 - val_loss: 790.2968 - val_mean_absolute_error: 790.2968\n",
      "Epoch 3/10\n",
      "732390/732390 [==============================] - 19s 26us/step - loss: 750.7812 - mean_absolute_error: 750.7812 - val_loss: 747.3588 - val_mean_absolute_error: 747.3588\n",
      "Epoch 4/10\n",
      "732390/732390 [==============================] - 19s 26us/step - loss: 734.6100 - mean_absolute_error: 734.6100 - val_loss: 729.2787 - val_mean_absolute_error: 729.2787\n",
      "Epoch 5/10\n",
      "732390/732390 [==============================] - 20s 27us/step - loss: 722.3947 - mean_absolute_error: 722.3947 - val_loss: 707.5096 - val_mean_absolute_error: 707.5096\n",
      "Epoch 6/10\n",
      "732390/732390 [==============================] - 20s 28us/step - loss: 713.9827 - mean_absolute_error: 713.9827 - val_loss: 701.0872 - val_mean_absolute_error: 701.0872\n",
      "Epoch 7/10\n",
      "732390/732390 [==============================] - 19s 26us/step - loss: 708.1232 - mean_absolute_error: 708.1232 - val_loss: 696.2107 - val_mean_absolute_error: 696.2107\n",
      "Epoch 8/10\n",
      "732390/732390 [==============================] - 19s 26us/step - loss: 702.3131 - mean_absolute_error: 702.3131 - val_loss: 691.6385 - val_mean_absolute_error: 691.6385\n",
      "Epoch 9/10\n",
      "732390/732390 [==============================] - 19s 26us/step - loss: 697.4870 - mean_absolute_error: 697.4870 - val_loss: 693.6651 - val_mean_absolute_error: 693.6651\n",
      "Epoch 10/10\n",
      "732390/732390 [==============================] - 19s 26us/step - loss: 692.2056 - mean_absolute_error: 692.2056 - val_loss: 704.3082 - val_mean_absolute_error: 704.3082\n"
     ]
    },
    {
     "data": {
      "text/plain": [
       "<keras.callbacks.History at 0x1a803f053c8>"
      ]
     },
     "execution_count": 30,
     "metadata": {},
     "output_type": "execute_result"
    }
   ],
   "source": [
    "import pandas as pd\n",
    "import numpy as np\n",
    "df=pd.read_csv(\"train.csv\")\n",
    "store=pd.read_csv(\"store.csv\")\n",
    "#df.head()\n",
    "#store.head()\n",
    "df_new=df.merge(store,on=[\"Store\"],how=\"inner\")\n",
    "df_new['Date']=pd.to_datetime(df[\"Date\"],infer_datetime_format=True)\n",
    "df_new[\"Day\"]=df_new[\"Date\"].dt.day\n",
    "df_new[\"Month\"]=df_new[\"Date\"].dt.month\n",
    "df_new[\"Year\"]=df_new[\"Date\"].dt.year\n",
    "df_new[\"Quarter\"]=df_new[\"Date\"].dt.quarter\n",
    "#df_new.head()\n",
    "#df_new.info()\n",
    "#df_new.isnull().sum()/len(df_new)\n",
    "df_new[\"CompetitionDistance\"]=df_new[\"CompetitionDistance\"].fillna(df_new[\"CompetitionDistance\"].mode()[0])\n",
    "df_new[\"CompetitionOpenSinceMonth\"]=df_new[\"CompetitionOpenSinceMonth\"].fillna(df_new[\"CompetitionOpenSinceMonth\"].mode()[0])\n",
    "df_new[\"CompetitionOpenSinceYear\"]=df_new[\"CompetitionOpenSinceYear\"].fillna(df_new[\"CompetitionOpenSinceYear\"].mode()[0])\n",
    "df_new[\"Promo2SinceWeek\"]=df_new[\"Promo2SinceWeek\"].fillna(df_new[\"Promo2SinceWeek\"].mode()[0])\n",
    "df_new[\"Promo2SinceYear\"]=df_new[\"Promo2SinceYear\"].fillna(df_new[\"Promo2SinceYear\"].mode()[0])\n",
    "df_new[\"PromoInterval\"]=df_new[\"PromoInterval\"].fillna(df_new[\"PromoInterval\"].mode()[0])\n",
    "df_new.isnull().sum()/len(df_new)\n",
    "from sklearn.preprocessing import LabelEncoder\n",
    "from sklearn.preprocessing import OneHotEncoder\n",
    "#df_new.info()\n",
    "target=[\"Sales\"]\n",
    "categorical_columns=[\"DayOfWeek\",\"Month\",\"Year\",\"StoreType\",\"Assortment\",\"Quarter\"]\n",
    "numerical_columns=[\"Customers\",\"Open\",\"Promo\",\"Promo2\",\"StateHoliday\",\"SchoolHoliday\",\"CompetitionDistance\"]\n",
    "def create_ohe(df, col):\n",
    "    le = LabelEncoder()\n",
    "    a = le.fit_transform(df[col]).reshape(-1,1)\n",
    "    ohe = OneHotEncoder(sparse = False)\n",
    "    column_names = [col + \"_\" + str(i) for i in le.classes_]\n",
    "    return (pd.DataFrame(ohe.fit_transform(a), columns = \n",
    "                        column_names))\n",
    "\n",
    "temp=df_new[numerical_columns]\n",
    "for column in categorical_columns:\n",
    "    temp_df=create_ohe(df_new,column)\n",
    "    temp=pd.concat([temp,temp_df],axis=1)\n",
    "#temp.info()\n",
    "#temp[\"StateHoliday\"].unique()\n",
    "temp[\"StateHoliday\"]=np.where(temp[\"StateHoliday\"]=='0',0,1)\n",
    "#temp.info()\n",
    "from keras.models import Sequential\n",
    "from keras.layers import Dense\n",
    "from sklearn.model_selection import train_test_split\n",
    "from keras.callbacks import History\n",
    "history=History()\n",
    "x_train,x_test,y_train,y_test=train_test_split(temp,df_new[\"Sales\"],random_state=2019,test_size=0.2)\n",
    "x_train,x_val,y_train,y_val=train_test_split(x_train,y_train,random_state=2019,test_size=0.1)\n",
    "#print(x_train.shape)\n",
    "#print(y_train.shape)\n",
    "#print(x_test.shape)\n",
    "#print(y_test.shape)\n",
    "#print(x_val.shape)\n",
    "#print(y_val.shape)\n",
    "model_1=Sequential()\n",
    "model_1.add(Dense(150,input_dim=40,activation=\"relu\"))\n",
    "model_1.add(Dense(1,activation=\"linear\"))\n",
    "model_1.compile(optimizer='adam',loss=\"mean_absolute_error\",metrics=[\"mean_absolute_error\"])\n",
    "model_1.fit(x_train,y_train,validation_data=(x_val,y_val),epochs=10,batch_size=64,callbacks=[history])"
   ]
  },
  {
   "cell_type": "code",
   "execution_count": 1,
   "metadata": {},
   "outputs": [
    {
     "ename": "NameError",
     "evalue": "name 'history' is not defined",
     "output_type": "error",
     "traceback": [
      "\u001b[1;31m---------------------------------------------------------------------------\u001b[0m",
      "\u001b[1;31mNameError\u001b[0m                                 Traceback (most recent call last)",
      "\u001b[1;32m<ipython-input-1-76fd46a43284>\u001b[0m in \u001b[0;36m<module>\u001b[1;34m\u001b[0m\n\u001b[0;32m      1\u001b[0m \u001b[0mget_ipython\u001b[0m\u001b[1;33m(\u001b[0m\u001b[1;33m)\u001b[0m\u001b[1;33m.\u001b[0m\u001b[0mrun_line_magic\u001b[0m\u001b[1;33m(\u001b[0m\u001b[1;34m'matplotlib'\u001b[0m\u001b[1;33m,\u001b[0m \u001b[1;34m'inline'\u001b[0m\u001b[1;33m)\u001b[0m\u001b[1;33m\u001b[0m\u001b[1;33m\u001b[0m\u001b[0m\n\u001b[0;32m      2\u001b[0m \u001b[1;32mimport\u001b[0m \u001b[0mmatplotlib\u001b[0m\u001b[1;33m.\u001b[0m\u001b[0mpyplot\u001b[0m \u001b[1;32mas\u001b[0m \u001b[0mplt\u001b[0m\u001b[1;33m\u001b[0m\u001b[1;33m\u001b[0m\u001b[0m\n\u001b[1;32m----> 3\u001b[1;33m \u001b[0mplt\u001b[0m\u001b[1;33m.\u001b[0m\u001b[0mplot\u001b[0m\u001b[1;33m(\u001b[0m\u001b[0mhistory\u001b[0m\u001b[1;33m.\u001b[0m\u001b[0mhistory\u001b[0m\u001b[1;33m[\u001b[0m\u001b[1;34m'loss'\u001b[0m\u001b[1;33m]\u001b[0m\u001b[1;33m)\u001b[0m\u001b[1;33m\u001b[0m\u001b[1;33m\u001b[0m\u001b[0m\n\u001b[0m\u001b[0;32m      4\u001b[0m \u001b[0mplt\u001b[0m\u001b[1;33m.\u001b[0m\u001b[0mplot\u001b[0m\u001b[1;33m(\u001b[0m\u001b[0mhistory\u001b[0m\u001b[1;33m.\u001b[0m\u001b[0mhistory\u001b[0m\u001b[1;33m[\u001b[0m\u001b[1;34m'val_loss'\u001b[0m\u001b[1;33m]\u001b[0m\u001b[1;33m)\u001b[0m\u001b[1;33m\u001b[0m\u001b[1;33m\u001b[0m\u001b[0m\n\u001b[0;32m      5\u001b[0m \u001b[0mplt\u001b[0m\u001b[1;33m.\u001b[0m\u001b[0mxlabel\u001b[0m\u001b[1;33m(\u001b[0m\u001b[1;34m\"Epochs\"\u001b[0m\u001b[1;33m)\u001b[0m\u001b[1;33m\u001b[0m\u001b[1;33m\u001b[0m\u001b[0m\n",
      "\u001b[1;31mNameError\u001b[0m: name 'history' is not defined"
     ]
    }
   ],
   "source": [
    "%matplotlib inline\n",
    "import matplotlib.pyplot as plt\n",
    "plt.plot(history.history['loss'])\n",
    "plt.plot(history.history['val_loss'])\n",
    "plt.xlabel(\"Epochs\")\n",
    "plt.ylabel(\"Loss\")\n",
    "plt.show()"
   ]
  },
  {
   "cell_type": "code",
   "execution_count": null,
   "metadata": {},
   "outputs": [],
   "source": []
  }
 ],
 "metadata": {
  "kernelspec": {
   "display_name": "Python 3",
   "language": "python",
   "name": "python3"
  },
  "language_info": {
   "codemirror_mode": {
    "name": "ipython",
    "version": 3
   },
   "file_extension": ".py",
   "mimetype": "text/x-python",
   "name": "python",
   "nbconvert_exporter": "python",
   "pygments_lexer": "ipython3",
   "version": "3.7.3"
  }
 },
 "nbformat": 4,
 "nbformat_minor": 2
}
